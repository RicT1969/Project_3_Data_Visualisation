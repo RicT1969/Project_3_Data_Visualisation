{
 "cells": [
  {
   "cell_type": "code",
   "execution_count": null,
   "metadata": {},
   "outputs": [
    {
     "ename": "",
     "evalue": "",
     "output_type": "error",
     "traceback": [
      "\u001b[1;31mFailed to start the Kernel. \n",
      "\u001b[1;31mUnable to start Kernel 'dev (Python 3.10.9)' due to a timeout waiting for the ports to get used. \n",
      "\u001b[1;31mView Jupyter <a href='command:jupyter.viewOutput'>log</a> for further details."
     ]
    }
   ],
   "source": [
    "import pandas as pd\n",
    "from urllib.request import urlopen\n",
    "# from geopy.geocoders import Nominatim\n",
    "import numpy as np\n",
    "\n",
    "# import json\n",
    "import json\n",
    "# store the URL in url as \n",
    "# parameter for urlopen\n",
    "\n",
    "## API URL  - using quakes MMI 2+ \n",
    "\n",
    "url2 = \"https://api.geonet.org.nz/quake?MMI=2\"\n",
    "url3 = \"https://api.geonet.org.nz/quake?MMI=3\"\n",
    "url4 = \"https://api.geonet.org.nz/quake?MMI=4\"\n",
    "url5 = \"https://api.geonet.org.nz/quake?MMI=5\"\n",
    "url6 = \"https://api.geonet.org.nz/quake?MMI=6\"\n",
    "url7 = \"https://api.geonet.org.nz/quake?MMI=7\"\n",
    "  "
   ]
  },
  {
   "cell_type": "code",
   "execution_count": null,
   "metadata": {},
   "outputs": [
    {
     "ename": "",
     "evalue": "",
     "output_type": "error",
     "traceback": [
      "\u001b[1;31mFailed to start the Kernel. \n",
      "\u001b[1;31mUnable to start Kernel 'dev (Python 3.10.9)' due to a timeout waiting for the ports to get used. \n",
      "\u001b[1;31mView Jupyter <a href='command:jupyter.viewOutput'>log</a> for further details."
     ]
    }
   ],
   "source": [
    "## Create DF for each API request at varying levels of MMI \n",
    "\n",
    "# ---------------------------\n",
    "# MMI = 2\n",
    "# ---------------------------\n",
    "# store the response of URL\n",
    "response2 = urlopen(url2)\n",
    "  \n",
    "# storing the JSON response \n",
    "# from url in data\n",
    "data_json2 = json.loads(response2.read())\n",
    "\n",
    "MMI2_df = pd.json_normalize(data_json2[\"features\"])\n",
    "# MMI2_df.head()\n",
    "\n",
    "# ---------------------------\n",
    "# MMI = 3\n",
    "# ---------------------------\n",
    "# store the response of URL\n",
    "response3 = urlopen(url3)\n",
    "  \n",
    "# storing the JSON response \n",
    "# from url in data\n",
    "data_json3 = json.loads(response3.read())\n",
    "\n",
    "MMI3_df = pd.json_normalize(data_json3[\"features\"])\n",
    "# MMI2_df.head()\n",
    "\n",
    "# ---------------------------\n",
    "# MMI = 4\n",
    "# ---------------------------\n",
    "# store the response of URL\n",
    "response4 = urlopen(url4)\n",
    "  \n",
    "# storing the JSON response \n",
    "# from url in data\n",
    "data_json4 = json.loads(response4.read())\n",
    "\n",
    "MMI4_df = pd.json_normalize(data_json4[\"features\"])\n",
    "# MMI4_df.head()\n",
    "\n",
    "\n",
    "# ---------------------------\n",
    "# MMI = 5\n",
    "# ---------------------------\n",
    "# store the response of URL\n",
    "response5 = urlopen(url5)\n",
    "  \n",
    "# storing the JSON response \n",
    "# from url in data\n",
    "data_json5 = json.loads(response5.read())\n",
    "\n",
    "MMI5_df = pd.json_normalize(data_json5[\"features\"])\n",
    "# MMI5_df.head()\n",
    "\n",
    "# ---------------------------\n",
    "# MMI = 6\n",
    "# ---------------------------\n",
    "# store the response of URL\n",
    "response6 = urlopen(url6)\n",
    "  \n",
    "# storing the JSON response \n",
    "# from url in data\n",
    "data_json6 = json.loads(response6.read())\n",
    "\n",
    "MMI6_df = pd.json_normalize(data_json6[\"features\"])\n",
    "# MMI6_df.head()\n",
    "\n",
    "# ---------------------------\n",
    "# MMI = 7\n",
    "# ---------------------------\n",
    "# store the response of URL\n",
    "response7 = urlopen(url7)\n",
    "  \n",
    "# storing the JSON response \n",
    "# from url in data\n",
    "data_json7 = json.loads(response7.read())\n",
    "\n",
    "MMI7_df = pd.json_normalize(data_json7[\"features\"])\n",
    "# MMI7_df.head()\n"
   ]
  },
  {
   "cell_type": "code",
   "execution_count": null,
   "metadata": {},
   "outputs": [
    {
     "ename": "",
     "evalue": "",
     "output_type": "error",
     "traceback": [
      "\u001b[1;31mFailed to start the Kernel. \n",
      "\u001b[1;31mUnable to start Kernel 'dev (Python 3.10.9)' due to a timeout waiting for the ports to get used. \n",
      "\u001b[1;31mView Jupyter <a href='command:jupyter.viewOutput'>log</a> for further details."
     ]
    }
   ],
   "source": [
    "# Union raw all dataframes via concat\n",
    "# Put into list then concat.\n",
    "\n",
    "raw_df_list = [MMI2_df,MMI3_df,MMI4_df,MMI5_df,MMI6_df,MMI7_df]\n",
    "union_raw_df = pd.concat(raw_df_list)\n",
    "# union_raw_df.count()\n",
    "\n",
    "union_raw_df.head()\n",
    "union_raw_df\n"
   ]
  },
  {
   "cell_type": "code",
   "execution_count": null,
   "metadata": {},
   "outputs": [
    {
     "ename": "",
     "evalue": "",
     "output_type": "error",
     "traceback": [
      "\u001b[1;31mFailed to start the Kernel. \n",
      "\u001b[1;31mUnable to start Kernel 'dev (Python 3.10.9)' due to a timeout waiting for the ports to get used. \n",
      "\u001b[1;31mView Jupyter <a href='command:jupyter.viewOutput'>log</a> for further details."
     ]
    }
   ],
   "source": [
    "## Split geometry.coordinates into longitude and latitude\n",
    "\n",
    "\n",
    "# union_raw_df[[\"longitude\",\"latitude\"]] = union_raw_df[\"geometry.coordinates\"].str.split(',')\n",
    "# union_raw_df.head()\n",
    "# # crowdfunding_info_df[[\"category\",\"subcategory\"]] = crowdfunding_info_df[\"category & sub-category\"].str.split('/', n=1, expand=True)\n",
    "# # crowdfunding_info_df"
   ]
  },
  {
   "cell_type": "code",
   "execution_count": null,
   "metadata": {},
   "outputs": [
    {
     "ename": "",
     "evalue": "",
     "output_type": "error",
     "traceback": [
      "\u001b[1;31mFailed to start the Kernel. \n",
      "\u001b[1;31mUnable to start Kernel 'dev (Python 3.10.9)' due to a timeout waiting for the ports to get used. \n",
      "\u001b[1;31mView Jupyter <a href='command:jupyter.viewOutput'>log</a> for further details."
     ]
    }
   ],
   "source": [
    "## export to CSV"
   ]
  }
 ],
 "metadata": {
  "kernelspec": {
   "display_name": "dev",
   "language": "python",
   "name": "python3"
  },
  "language_info": {
   "codemirror_mode": {
    "name": "ipython",
    "version": 3
   },
   "file_extension": ".py",
   "mimetype": "text/x-python",
   "name": "python",
   "nbconvert_exporter": "python",
   "pygments_lexer": "ipython3",
   "version": "3.10.9"
  },
  "orig_nbformat": 4
 },
 "nbformat": 4,
 "nbformat_minor": 2
}
